{
 "cells": [
  {
   "cell_type": "code",
   "execution_count": 1,
   "metadata": {},
   "outputs": [],
   "source": [
    "import numpy as np\n",
    "import matplotlib.pyplot as plt\n",
    "import cv2"
   ]
  },
  {
   "cell_type": "code",
   "execution_count": 2,
   "metadata": {},
   "outputs": [],
   "source": [
    "# reading image from path (BGR format)\n",
    "img=cv2.imread('Broadway_tower.jpg')"
   ]
  },
  {
   "cell_type": "code",
   "execution_count": 3,
   "metadata": {},
   "outputs": [],
   "source": [
    "# Scharr deriviation\n",
    "def energy_image(image):\n",
    "    # turn color image to grayscale\n",
    "    gray = cv2.cvtColor(image, cv2.COLOR_BGR2GRAY)\n",
    "    # calculating maximum of HOG(Image)\n",
    "    hog = cv2.HOGDescriptor()\n",
    "    h = hog.compute(gray).max()\n",
    "    # derivation of image in x and y direction\n",
    "    scharr_x = cv2.Scharr(gray,-1,1,0)\n",
    "    scharr_y = cv2.Scharr(gray,-1,0,1)\n",
    "    abs_scharr_x = cv2.convertScaleAbs(scharr_x)\n",
    "    abs_scharr_y = cv2.convertScaleAbs(scharr_y)\n",
    "    # calculate energy function (e_HOG)\n",
    "    energy_map = (abs_scharr_x +  abs_scharr_y)/h\n",
    "    return energy_map"
   ]
  },
  {
   "cell_type": "code",
   "execution_count": 4,
   "metadata": {},
   "outputs": [],
   "source": [
    "# this function calculate cost matrix of image ,and also all seams path\n",
    "def getMaps(image,energy_map=0):\n",
    "    # extra condition for object removal\n",
    "    if type(energy_map)==int:\n",
    "        energy_map = energy_image(image)\n",
    "    rows, columns, = energy_map.shape[:2]\n",
    "    cost_matrix = energy_map.copy()\n",
    "    # create a copy of energy map to calculate seams\n",
    "    goback = np.zeros_like(cost_matrix, dtype = np.int)\n",
    "    for i in range(1, rows):\n",
    "        for j in range(0, columns):\n",
    "            \n",
    "            if j == 0:\n",
    "                # create seams\n",
    "                min_index = np.argmin(cost_matrix[i - 1, j : j + 2])\n",
    "                # create seam path\n",
    "                goback[i, j] = min_index + j\n",
    "                # create energy at each pixel\n",
    "                min_energy = cost_matrix[i - 1, min_index + j]\n",
    "                \n",
    "            else:\n",
    "                min_index = np.argmin(cost_matrix[i - 1, j - 1 : j + 2])\n",
    "                goback[i, j] = min_index + j -1\n",
    "                min_energy = cost_matrix[i - 1, min_index + j - 1]\n",
    "\n",
    "            cost_matrix[i, j] += min_energy\n",
    "\n",
    "    return cost_matrix, goback"
   ]
  },
  {
   "cell_type": "code",
   "execution_count": 5,
   "metadata": {},
   "outputs": [],
   "source": [
    "# finding minimum seam of an image\n",
    "def find_seam(image,energy_map=0):\n",
    "    row , col=image.shape[:2]\n",
    "    cost_matrix,goback=getMaps(image,energy_map)\n",
    "    # finding minimum value in last row of cost matrix\n",
    "    min_index=np.argmin(cost_matrix[-1])\n",
    "    min_seam=[min_index]\n",
    "    j=min_index\n",
    "    # finding seam with minimum energy using goback matrix\n",
    "    for i in range(row-1,0,-1):\n",
    "        min_seam.append(goback[i,j])\n",
    "        j=goback[i,j]\n",
    "    # change the order of minimum seam indices from up to bottom\n",
    "    min_seam.reverse()\n",
    "    return min_seam"
   ]
  },
  {
   "cell_type": "code",
   "execution_count": 6,
   "metadata": {},
   "outputs": [],
   "source": [
    "def draw_seam(image,seam):\n",
    "    # draw a seam on image with color Red\n",
    "    copy_image=image.copy()\n",
    "    for i in range(len(seam)):\n",
    "            copy_image[i,seam[i]]=np.array([0,0,255]).astype(np.uint8)\n",
    "    return copy_image"
   ]
  },
  {
   "cell_type": "code",
   "execution_count": 7,
   "metadata": {},
   "outputs": [],
   "source": [
    "def delete_seam(image, seam):\n",
    "    rows, cols = image.shape[:2]\n",
    "    #remove seam from image and adjust all other columns\n",
    "    for row in range(rows):\n",
    "        for col in range(int(seam[row]), cols-1):\n",
    "            #shift columns\n",
    "            image[row, col] = image[row, col+1]\n",
    "    # remove the last column\n",
    "    image = image[:, 0:cols-1]\n",
    "    return image"
   ]
  },
  {
   "cell_type": "code",
   "execution_count": 8,
   "metadata": {},
   "outputs": [],
   "source": [
    "def insert_seam(image, seam):\n",
    "    rows, cols, dim = image.shape\n",
    "    new_img=np.zeros((rows,cols+1,dim),dtype= np.uint8)\n",
    "    # copy images in new_image except minimum seam\n",
    "    for i in range(rows):\n",
    "        j=seam[i]\n",
    "        if j==0:\n",
    "            new_img[i,j+2:]=image[i,j+1:].astype(np.uint8)\n",
    "            # calculate the inserting pixels by averaging the seam pixel and it's two neighbor\n",
    "            insertion=np.average(image[i,j:j+2],axis=0).astype(np.uint8)\n",
    "        else:\n",
    "            new_img[i,:j]=image[i,:j].astype(np.uint8)\n",
    "            new_img[i,j+2:]=image[i,j+1:].astype(np.uint8)\n",
    "            insertion=np.average(image[i,j-1:j+2],axis=0).astype(np.uint8)\n",
    "        \n",
    "        new_img[i,j]=insertion\n",
    "        new_img[i,j+1]=insertion\n",
    "    \n",
    "    return new_img"
   ]
  },
  {
   "cell_type": "code",
   "execution_count": 9,
   "metadata": {},
   "outputs": [],
   "source": [
    "def seam_carving(img,iterates,direction,change):\n",
    "    # direction : horizontal or vertoical\n",
    "    # change : reduce(remove seam) or enlarge(insert seam)\n",
    "    # add changes in a list\n",
    "    video=[]\n",
    "    # adding original image\n",
    "    video.append(img)\n",
    "    if direction == 'horizontal':\n",
    "        # implement all methods on transpose of image to get horizontal changes\n",
    "        img_t=cv2.transpose(img)\n",
    "        for iterate in range(iterates):\n",
    "            min_seam=find_seam(img_t)\n",
    "            video.append(cv2.transpose(draw_seam(img_t,min_seam)))\n",
    "            if change=='reduce':\n",
    "                img_t=delete_seam(img_t,min_seam)\n",
    "            elif change=='enlarge':\n",
    "                img_t=insert_seam(img_t,min_seam)\n",
    "            video.append(cv2.transpose(img_t))\n",
    "    \n",
    "    elif direction == 'vertical':\n",
    "        for iterate in range(iterates):\n",
    "            min_seam=find_seam(img)\n",
    "            video.append(draw_seam(img,min_seam))\n",
    "            if change=='reduce':\n",
    "                img=delete_seam(img,min_seam)\n",
    "            elif change=='enlarge':\n",
    "                img=insert_seam(img,min_seam)\n",
    "            video.append(img)\n",
    "    \n",
    "    return video"
   ]
  },
  {
   "cell_type": "code",
   "execution_count": 10,
   "metadata": {},
   "outputs": [],
   "source": [
    "def video(name,result,change):\n",
    "    #save a video of changes \n",
    "    if change=='reduce':\n",
    "        h, w= result[0].shape[:2]\n",
    "        size = (w,h)\n",
    "        video = cv2.VideoWriter(str(name)+'.avi',cv2.VideoWriter_fourcc(*'DIVX'), 1.0, size)\n",
    "        # resize images \n",
    "        for image in result:\n",
    "            if image.shape[0]!=h :\n",
    "                resized=cv2.copyMakeBorder(image.copy(),np.abs(h-image.shape[0]),0,0,0,cv2.BORDER_CONSTANT,value=[0,0,0])\n",
    "            elif image.shape[1]!=w:\n",
    "                resized=cv2.copyMakeBorder(image.copy(),0,0,0,np.abs(w-image.shape[1]),cv2.BORDER_CONSTANT,value=[0,0,0])\n",
    "            else:\n",
    "                resized=image\n",
    "            video.write(resized)\n",
    "            \n",
    "    elif change =='enlarge':\n",
    "        result.reverse()\n",
    "        temp=[]\n",
    "        h, w= result[0].shape[:2]\n",
    "        size = (w,h)\n",
    "        video = cv2.VideoWriter('video.avi',cv2.VideoWriter_fourcc(*'DIVX'), 1.0, size)\n",
    "        for image in result:\n",
    "            if image.shape[0]!=h :\n",
    "                resized=cv2.copyMakeBorder(image.copy(),np.abs(h-image.shape[0]),0,0,0,cv2.BORDER_CONSTANT,value=[0,0,0])\n",
    "                temp.append(resized)\n",
    "            elif image.shape[1]!=w:\n",
    "                resized=cv2.copyMakeBorder(image.copy(),0,0,0,np.abs(w-image.shape[1]),cv2.BORDER_CONSTANT,value=[0,0,0])\n",
    "                temp.append(resized)\n",
    "            else:\n",
    "                resized=image\n",
    "                temp.append(resized)\n",
    "                \n",
    "        temp.reverse()\n",
    "        for image in temp:\n",
    "            video.write(image)\n",
    "    \n",
    "    \n",
    "    cv2.destroyAllWindows()\n",
    "    video.release()"
   ]
  },
  {
   "cell_type": "code",
   "execution_count": null,
   "metadata": {},
   "outputs": [],
   "source": [
    "#example\n",
    "result=seam_carving(img,30,'vertical','reduce')"
   ]
  },
  {
   "cell_type": "code",
   "execution_count": null,
   "metadata": {},
   "outputs": [],
   "source": [
    "video('seamCarving',result,'reduce')"
   ]
  },
  {
   "cell_type": "markdown",
   "metadata": {},
   "source": [
    "## object removing sample"
   ]
  },
  {
   "cell_type": "code",
   "execution_count": 11,
   "metadata": {},
   "outputs": [],
   "source": [
    "from skimage import  draw"
   ]
  },
  {
   "cell_type": "code",
   "execution_count": 12,
   "metadata": {},
   "outputs": [],
   "source": [
    "img=cv2.imread('Broadway_tower.jpg')"
   ]
  },
  {
   "cell_type": "code",
   "execution_count": 13,
   "metadata": {},
   "outputs": [],
   "source": [
    "image=img.copy()\n",
    "# person position\n",
    "# 90 * 30 window showing the object\n",
    "poly=[(715,114),(715,144),(805,144),(805,114)]\n",
    "p1 = np.array([p[0] for p in poly])\n",
    "p2 = np.array([p[1] for p in poly])\n",
    "rr, cc = draw.polygon(p1, p2)\n",
    "color = np.array([0, 1, 0])\n",
    "image[rr, cc, :] = image[rr, cc, :]*0.5 + color*0.5"
   ]
  },
  {
   "cell_type": "code",
   "execution_count": 14,
   "metadata": {},
   "outputs": [],
   "source": [
    "energy_map=energy_image(img)\n",
    "# reduce energy in removal window\n",
    "energy_map[rr, cc] -= 100000"
   ]
  },
  {
   "cell_type": "code",
   "execution_count": 15,
   "metadata": {},
   "outputs": [],
   "source": [
    "deleted_seams=[]\n",
    "obj_removal=[]\n",
    "# displaying removal object\n",
    "obj_removal.append(image)"
   ]
  },
  {
   "cell_type": "code",
   "execution_count": 16,
   "metadata": {},
   "outputs": [],
   "source": [
    "# window is 90*30\n",
    "# implementing seam carving for 30 times to remove object in vertical direction\n",
    "for iterate in range(30) :\n",
    "    s=find_seam(img,energy_map)\n",
    "    deleted_seams.append(s)\n",
    "    obj_removal.append(draw_seam(img,s))\n",
    "    img=delete_seam(img,s)\n",
    "    obj_removal.append(img)\n",
    "    # remove the previous seam from energy map\n",
    "    energy_map=delete_seam(energy_map,s)"
   ]
  },
  {
   "cell_type": "code",
   "execution_count": 17,
   "metadata": {},
   "outputs": [],
   "source": [
    "video('objectRemoval',obj_removal,'reduce')"
   ]
  },
  {
   "cell_type": "code",
   "execution_count": 18,
   "metadata": {},
   "outputs": [],
   "source": [
    "# reordering seams from first to last seams that's been removed\n",
    "deleted_seams.reverse()"
   ]
  },
  {
   "cell_type": "code",
   "execution_count": 19,
   "metadata": {},
   "outputs": [],
   "source": [
    "increase=[]"
   ]
  },
  {
   "cell_type": "code",
   "execution_count": null,
   "metadata": {},
   "outputs": [],
   "source": [
    "for s in deleted_seams:\n",
    "    increase.append(draw_seam(img,s))\n",
    "    img=insert_seam(img,s)\n",
    "    increase.append(img)"
   ]
  },
  {
   "cell_type": "code",
   "execution_count": null,
   "metadata": {},
   "outputs": [],
   "source": [
    "video('lastResult',increase,'enlarge')"
   ]
  },
  {
   "cell_type": "code",
   "execution_count": null,
   "metadata": {},
   "outputs": [],
   "source": []
  }
 ],
 "metadata": {
  "kernelspec": {
   "display_name": "Python 3",
   "language": "python",
   "name": "python3"
  },
  "language_info": {
   "codemirror_mode": {
    "name": "ipython",
    "version": 3
   },
   "file_extension": ".py",
   "mimetype": "text/x-python",
   "name": "python",
   "nbconvert_exporter": "python",
   "pygments_lexer": "ipython3",
   "version": "3.7.4"
  }
 },
 "nbformat": 4,
 "nbformat_minor": 2
}
